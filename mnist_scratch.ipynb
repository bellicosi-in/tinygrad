{
 "cells": [
  {
   "cell_type": "code",
   "execution_count": 1,
   "id": "39a3d3d7",
   "metadata": {},
   "outputs": [
    {
     "name": "stdout",
     "output_type": "stream",
     "text": [
      "Populating the interactive namespace from numpy and matplotlib\n"
     ]
    }
   ],
   "source": [
    "%pylab inline\n",
    "\n",
    "import numpy as np\n",
    "from tqdm import trange"
   ]
  },
  {
   "cell_type": "code",
   "execution_count": 2,
   "id": "d6859f46",
   "metadata": {},
   "outputs": [],
   "source": [
    "# def fetch(url):\n",
    "#     import requests, os, gzip, hashlib, numpy as np  # Changed numpy import alias for consistency\n",
    "#     fp = os.path.join(\"/tmp\", hashlib.md5(url.encode('utf-8')).hexdigest())\n",
    "    \n",
    "#     if os.path.isfile(fp):  # Check if file exists\n",
    "#         with open(fp, \"rb\") as f:\n",
    "#             dat = f.read()\n",
    "#     else:  # If not, fetch and write to file\n",
    "#         with open(fp, \"wb\") as f:\n",
    "#             dat = requests.get(url).content\n",
    "#             f.write(dat)\n",
    "    \n",
    "#     return np.frombuffer(gzip.decompress(dat), dtype=np.uint8)  # Return statement outside of the if-else block\n",
    "\n",
    "# # Fetch the MNIST dataset\n",
    "# X_train = fetch(\"http://yann.lecun.com/exdb/mnist/train-images-idx3-ubyte.gz\")\n",
    "# Y_train = fetch(\"http://yann.lecun.com/exdb/mnist/train-labels-idx1-ubyte.gz\")\n",
    "# X_test = fetch(\"http://yann.lecun.com/exdb/mnist/t10k-images-idx3-ubyte.gz\")\n",
    "# Y_test = fetch(\"http://yann.lecun.com/exdb/mnist/t10k-labels-idx1-ubyte.gz\")\n",
    "\n",
    "\n",
    "# import os,gzip,numpy as np\n",
    "# fp = os.path.join(\"/Users/priyanshukumar/Desktop/fafi/tinygrad/archive (1)/train-images.idx3-ubyte\")\n",
    "# with open(fp, \"rb\") as f:\n",
    "#     dat = f.read()\n",
    "\n",
    "import os,numpy as np,hashlib\n",
    "def file_read(path):\n",
    "    fp = os.path.join(path)\n",
    "    if os.path.isfile(fp):\n",
    "        with open(fp,\"rb\") as f:\n",
    "            dat = f.read()\n",
    "    else:\n",
    "        with open(fp,\"wb\") as f:\n",
    "            dat = f.write()\n",
    "            \n",
    "    return np.frombuffer(dat,dtype = np.uint8).copy()\n",
    "X_train = file_read(\"/Users/priyanshukumar/Desktop/fafi/tinygrad/archive (1)/train-images.idx3-ubyte\")[0x10:].reshape((-1,28,28))\n",
    "Y_train = file_read(\"/Users/priyanshukumar/Desktop/fafi/tinygrad/archive (1)/train-labels.idx1-ubyte\")[8:]\n",
    "X_test =  file_read(\"/Users/priyanshukumar/Desktop/fafi/tinygrad/archive (1)/t10k-images.idx3-ubyte\")[0x10:].reshape((-1,28,28))\n",
    "Y_test =  file_read(\"/Users/priyanshukumar/Desktop/fafi/tinygrad/archive (1)/t10k-labels.idx1-ubyte\")[8:]"
   ]
  },
  {
   "cell_type": "code",
   "execution_count": 3,
   "id": "5a729935",
   "metadata": {},
   "outputs": [
    {
     "data": {
      "text/plain": [
       "(60000, 784)"
      ]
     },
     "execution_count": 3,
     "metadata": {},
     "output_type": "execute_result"
    }
   ],
   "source": [
    "X_train.reshape(-1,28*28).shape"
   ]
  },
  {
   "cell_type": "code",
   "execution_count": 4,
   "id": "3c7d132d",
   "metadata": {},
   "outputs": [],
   "source": [
    "# pytorch\n",
    "import torch\n",
    "import torch.nn as nn\n",
    "import torch.nn.functional as F\n",
    "\n"
   ]
  },
  {
   "cell_type": "code",
   "execution_count": 5,
   "id": "4aa90a02",
   "metadata": {},
   "outputs": [],
   "source": [
    "class RandNet(nn.Module):\n",
    "    def __init__(self):\n",
    "        super(RandNet,self).__init__()\n",
    "        self.l1 = nn.Linear(784,128)\n",
    "        self.act = nn.ReLU()\n",
    "        self.l2 = nn.Linear(128,10)\n",
    "    def forward(self,x):\n",
    "        x = F.relu(self.l1(x))\n",
    "        x = self.l2(x)\n",
    "        return x\n",
    "\n",
    "\n",
    "model = RandNet()\n",
    "        "
   ]
  },
  {
   "cell_type": "code",
   "execution_count": 6,
   "id": "014a5af6",
   "metadata": {},
   "outputs": [
    {
     "name": "stderr",
     "output_type": "stream",
     "text": [
      "loss 0.07 accuracy 0.97: 100%|███████████████████████████████████████████████████████████████████████████████████████████████████████████████████████████████████████████████████| 1000/1000 [00:01<00:00, 551.51it/s]\n"
     ]
    }
   ],
   "source": [
    "# training\n",
    "bs = 32\n",
    "loss_func = nn.CrossEntropyLoss()\n",
    "optim = torch.optim.Adam(model.parameters())\n",
    "losses, accuracies = [], []\n",
    "for i in (t := trange(1000)):\n",
    "    \n",
    "    samp = np.random.randint(0,X_train.shape[0],size=(bs))\n",
    "    X = torch.tensor(X_train[samp].reshape((-1, 28*28))).float()\n",
    "    Y = torch.tensor(Y_train[samp]).long()\n",
    "    optim.zero_grad()\n",
    "    \n",
    "    out = model(X)\n",
    "#     print(f\"out:{out}\")\n",
    "    cat = torch.argmax(out,dim =1)\n",
    "    accuracy = (cat == Y).float().mean()\n",
    "#     print(cat)\n",
    "    loss = loss_func(out,Y)\n",
    "    loss.backward()\n",
    "    optim.step()\n",
    "    loss, accuracy = loss.item(), accuracy.item()\n",
    "    losses.append(loss)\n",
    "    accuracies.append(accuracy)\n",
    "#     print(loss)\n",
    "    t.set_description(\"loss %.2f accuracy %.2f\" % (loss, accuracy))\n",
    "\n"
   ]
  },
  {
   "cell_type": "code",
   "execution_count": 7,
   "id": "35bf14f1",
   "metadata": {},
   "outputs": [
    {
     "data": {
      "text/plain": [
       "[<matplotlib.lines.Line2D at 0x7fec60936a00>]"
      ]
     },
     "execution_count": 7,
     "metadata": {},
     "output_type": "execute_result"
    },
    {
     "data": {
      "image/png": "[encoded data removed]",
      "text/plain": [
       "<Figure size 432x288 with 1 Axes>"
      ]
     },
     "metadata": {
      "needs_background": "light"
     },
     "output_type": "display_data"
    }
   ],
   "source": [
    "plt.ylim(-1,3)\n",
    "plot(losses,color = 'black')\n",
    "plot(accuracies,color = 'yellow')"
   ]
  },
  {
   "cell_type": "code",
   "execution_count": 8,
   "id": "91e908e7",
   "metadata": {},
   "outputs": [
    {
     "data": {
      "text/plain": [
       "0.9206"
      ]
     },
     "execution_count": 8,
     "metadata": {},
     "output_type": "execute_result"
    }
   ],
   "source": [
    "# evaluation\n",
    "Y_test_preds = torch.argmax(model(torch.tensor(X_test.reshape((-1, 28*28))).float()), dim=1).numpy()\n",
    "(Y_test_preds == Y_test).mean()"
   ]
  },
  {
   "cell_type": "code",
   "execution_count": 9,
   "id": "f89617a1",
   "metadata": {},
   "outputs": [],
   "source": [
    "import numpy as np"
   ]
  },
  {
   "cell_type": "code",
   "execution_count": 25,
   "id": "9d26ca0c",
   "metadata": {},
   "outputs": [
    {
     "data": {
      "text/plain": [
       "140654557153296"
      ]
     },
     "execution_count": 25,
     "metadata": {},
     "output_type": "execute_result"
    }
   ],
   "source": [
    "# init the network\n",
    "\n",
    "l1 = np.zeros((784), dtype = np.float32)\n",
    "l2 = np.zeros((10,128), dtype = np.float32)\n",
    "id(l2)"
   ]
  },
  {
   "cell_type": "code",
   "execution_count": 27,
   "id": "e1eaa2f3",
   "metadata": {},
   "outputs": [],
   "source": [
    "# copy weights from the pytorch\n",
    "l1[:] = model.l1.weight.detach().numpy()\n",
    "l2[:] = model.l2.weight.detach().numpy()\n"
   ]
  },
  {
   "cell_type": "code",
   "execution_count": 33,
   "id": "4be6fa61",
   "metadata": {},
   "outputs": [],
   "source": [
    "# numpy forward pass\n",
    "def forward(x):\n",
    "    x = x.dot(l1)\n",
    "    print(x.)\n",
    "    x = np.maximum(0,x)\n",
    "    x = x.dot(l2)\n",
    "    return x"
   ]
  },
  {
   "cell_type": "code",
   "execution_count": 36,
   "id": "d49411e7",
   "metadata": {},
   "outputs": [
    {
     "ename": "ValueError",
     "evalue": "shapes (10000,784) and (128,784) not aligned: 784 (dim 1) != 128 (dim 0)",
     "output_type": "error",
     "traceback": [
      "\u001b[0;31m---------------------------------------------------------------------------\u001b[0m",
      "\u001b[0;31mValueError\u001b[0m                                Traceback (most recent call last)",
      "\u001b[0;32m/var/folders/mb/lggjy3sx2rv8kb3lfx62pmjh0000gn/T/ipykernel_65706/3437079304.py\u001b[0m in \u001b[0;36m<module>\u001b[0;34m\u001b[0m\n\u001b[0;32m----> 1\u001b[0;31m \u001b[0mforward\u001b[0m\u001b[0;34m(\u001b[0m\u001b[0mX_test\u001b[0m\u001b[0;34m.\u001b[0m\u001b[0mreshape\u001b[0m\u001b[0;34m(\u001b[0m\u001b[0;34m(\u001b[0m\u001b[0;34m-\u001b[0m\u001b[0;36m1\u001b[0m\u001b[0;34m,\u001b[0m\u001b[0;36m28\u001b[0m\u001b[0;34m*\u001b[0m\u001b[0;36m28\u001b[0m\u001b[0;34m)\u001b[0m\u001b[0;34m)\u001b[0m\u001b[0;34m)\u001b[0m\u001b[0;34m\u001b[0m\u001b[0;34m\u001b[0m\u001b[0m\n\u001b[0m",
      "\u001b[0;32m/var/folders/mb/lggjy3sx2rv8kb3lfx62pmjh0000gn/T/ipykernel_65706/4105278888.py\u001b[0m in \u001b[0;36mforward\u001b[0;34m(x)\u001b[0m\n\u001b[1;32m      1\u001b[0m \u001b[0;31m# numpy forward pass\u001b[0m\u001b[0;34m\u001b[0m\u001b[0;34m\u001b[0m\u001b[0m\n\u001b[1;32m      2\u001b[0m \u001b[0;32mdef\u001b[0m \u001b[0mforward\u001b[0m\u001b[0;34m(\u001b[0m\u001b[0mx\u001b[0m\u001b[0;34m)\u001b[0m\u001b[0;34m:\u001b[0m\u001b[0;34m\u001b[0m\u001b[0;34m\u001b[0m\u001b[0m\n\u001b[0;32m----> 3\u001b[0;31m     \u001b[0mx\u001b[0m \u001b[0;34m=\u001b[0m \u001b[0mx\u001b[0m\u001b[0;34m.\u001b[0m\u001b[0mdot\u001b[0m\u001b[0;34m(\u001b[0m\u001b[0ml1\u001b[0m\u001b[0;34m)\u001b[0m\u001b[0;34m\u001b[0m\u001b[0;34m\u001b[0m\u001b[0m\n\u001b[0m\u001b[1;32m      4\u001b[0m     \u001b[0mx\u001b[0m \u001b[0;34m=\u001b[0m \u001b[0mnp\u001b[0m\u001b[0;34m.\u001b[0m\u001b[0mmaximum\u001b[0m\u001b[0;34m(\u001b[0m\u001b[0;36m0\u001b[0m\u001b[0;34m,\u001b[0m\u001b[0mx\u001b[0m\u001b[0;34m)\u001b[0m\u001b[0;34m\u001b[0m\u001b[0;34m\u001b[0m\u001b[0m\n\u001b[1;32m      5\u001b[0m     \u001b[0mx\u001b[0m \u001b[0;34m=\u001b[0m \u001b[0mx\u001b[0m\u001b[0;34m.\u001b[0m\u001b[0mdot\u001b[0m\u001b[0;34m(\u001b[0m\u001b[0ml2\u001b[0m\u001b[0;34m)\u001b[0m\u001b[0;34m\u001b[0m\u001b[0;34m\u001b[0m\u001b[0m\n",
      "\u001b[0;31mValueError\u001b[0m: shapes (10000,784) and (128,784) not aligned: 784 (dim 1) != 128 (dim 0)"
     ]
    }
   ],
   "source": [
    "forward(X_test.reshape((-1,28*28)))"
   ]
  },
  {
   "cell_type": "code",
   "execution_count": null,
   "id": "822da97b",
   "metadata": {},
   "outputs": [],
   "source": []
  },
  {
   "cell_type": "code",
   "execution_count": null,
   "id": "48019874",
   "metadata": {},
   "outputs": [],
   "source": []
  },
  {
   "cell_type": "code",
   "execution_count": null,
   "id": "7d222ef2",
   "metadata": {},
   "outputs": [],
   "source": []
  }
 ],
 "metadata": {
  "kernelspec": {
   "display_name": "Python 3 (ipykernel)",
   "language": "python",
   "name": "python3"
  },
  "language_info": {
   "codemirror_mode": {
    "name": "ipython",
    "version": 3
   },
   "file_extension": ".py",
   "mimetype": "text/x-python",
   "name": "python",
   "nbconvert_exporter": "python",
   "pygments_lexer": "ipython3",
   "version": "3.9.7"
  }
 },
 "nbformat": 4,
 "nbformat_minor": 5
}
