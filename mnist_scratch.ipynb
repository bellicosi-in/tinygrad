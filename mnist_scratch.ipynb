{
 "cells": [
  {
   "cell_type": "code",
   "execution_count": 64,
   "id": "39a3d3d7",
   "metadata": {},
   "outputs": [
    {
     "name": "stdout",
     "output_type": "stream",
     "text": [
      "Populating the interactive namespace from numpy and matplotlib\n"
     ]
    },
    {
     "name": "stderr",
     "output_type": "stream",
     "text": [
      "/Users/priyanshukumar/opt/anaconda3/lib/python3.9/site-packages/IPython/core/magics/pylab.py:159: UserWarning: pylab import has clobbered these variables: ['f']\n",
      "`%matplotlib` prevents importing * from pylab and numpy\n",
      "  warn(\"pylab import has clobbered these variables: %s\"  % clobbered +\n"
     ]
    }
   ],
   "source": [
    "%pylab inline\n",
    "\n",
    "import numpy as np\n",
    "from tqdm import trange"
   ]
  },
  {
   "cell_type": "code",
   "execution_count": 119,
   "id": "d6859f46",
   "metadata": {},
   "outputs": [],
   "source": [
    "# def fetch(url):\n",
    "#     import requests, os, gzip, hashlib, numpy as np  # Changed numpy import alias for consistency\n",
    "#     fp = os.path.join(\"/tmp\", hashlib.md5(url.encode('utf-8')).hexdigest())\n",
    "    \n",
    "#     if os.path.isfile(fp):  # Check if file exists\n",
    "#         with open(fp, \"rb\") as f:\n",
    "#             dat = f.read()\n",
    "#     else:  # If not, fetch and write to file\n",
    "#         with open(fp, \"wb\") as f:\n",
    "#             dat = requests.get(url).content\n",
    "#             f.write(dat)\n",
    "    \n",
    "#     return np.frombuffer(gzip.decompress(dat), dtype=np.uint8)  # Return statement outside of the if-else block\n",
    "\n",
    "# # Fetch the MNIST dataset\n",
    "# X_train = fetch(\"http://yann.lecun.com/exdb/mnist/train-images-idx3-ubyte.gz\")\n",
    "# Y_train = fetch(\"http://yann.lecun.com/exdb/mnist/train-labels-idx1-ubyte.gz\")\n",
    "# X_test = fetch(\"http://yann.lecun.com/exdb/mnist/t10k-images-idx3-ubyte.gz\")\n",
    "# Y_test = fetch(\"http://yann.lecun.com/exdb/mnist/t10k-labels-idx1-ubyte.gz\")\n",
    "\n",
    "\n",
    "# import os,gzip,numpy as np\n",
    "# fp = os.path.join(\"/Users/priyanshukumar/Desktop/fafi/tinygrad/archive (1)/train-images.idx3-ubyte\")\n",
    "# with open(fp, \"rb\") as f:\n",
    "#     dat = f.read()\n",
    "\n",
    "import os,numpy as np,hashlib\n",
    "def file_read(path):\n",
    "    fp = os.path.join(path)\n",
    "    if os.path.isfile(fp):\n",
    "        with open(fp,\"rb\") as f:\n",
    "            dat = f.read()\n",
    "    else:\n",
    "        with open(fp,\"wb\") as f:\n",
    "            dat = f.write()\n",
    "            \n",
    "    return np.frombuffer(dat,dtype = np.uint8).copy()\n",
    "X_train = file_read(\"/Users/priyanshukumar/Desktop/fafi/tinygrad/archive (1)/train-images.idx3-ubyte\")[0x10:].reshape((-1,28,28))\n",
    "Y_train = file_read(\"/Users/priyanshukumar/Desktop/fafi/tinygrad/archive (1)/train-labels.idx1-ubyte\")[8:]\n",
    "X_test =  file_read(\"/Users/priyanshukumar/Desktop/fafi/tinygrad/archive (1)/t10k-images.idx3-ubyte\")[0x10:].reshape((-1,28,28))\n",
    "Y_test =  file_read(\"/Users/priyanshukumar/Desktop/fafi/tinygrad/archive (1)/t10k-labels.idx1-ubyte\")[8:]"
   ]
  },
  {
   "cell_type": "code",
   "execution_count": 43,
   "id": "5a729935",
   "metadata": {},
   "outputs": [
    {
     "data": {
      "text/plain": [
       "(60000, 784)"
      ]
     },
     "execution_count": 43,
     "metadata": {},
     "output_type": "execute_result"
    }
   ],
   "source": [
    "X_train.reshape(-1,28*28).shape"
   ]
  },
  {
   "cell_type": "code",
   "execution_count": 44,
   "id": "cf4a5eeb",
   "metadata": {},
   "outputs": [],
   "source": [
    "# pytorch\n",
    "import torch\n",
    "import torch.nn as nn\n",
    "import torch.nn.functional as F\n",
    "\n"
   ]
  },
  {
   "cell_type": "code",
   "execution_count": 50,
   "id": "727d049c",
   "metadata": {},
   "outputs": [],
   "source": [
    "class RandNet(nn.Module):\n",
    "    def __init__(self):\n",
    "        super(RandNet,self).__init__()\n",
    "        self.l1 = nn.Linear(784,128)\n",
    "        self.act = nn.ReLU()\n",
    "        self.l2 = nn.Linear(128,10)\n",
    "    def forward(self,x):\n",
    "        x = F.relu(self.l1(x))\n",
    "        x = self.l2(x)\n",
    "        return x\n",
    "\n",
    "\n",
    "model = RandNet()\n",
    "        "
   ]
  },
  {
   "cell_type": "code",
   "execution_count": 158,
   "id": "54e8ec49",
   "metadata": {},
   "outputs": [
    {
     "name": "stderr",
     "output_type": "stream",
     "text": [
      "loss 0.11 accuracy 1.00: 100%|███████████████████████████████████████████████████████████████████████████████████████████████████████████████████████████████████████████████████| 1000/1000 [00:01<00:00, 600.11it/s]\n"
     ]
    }
   ],
   "source": [
    "# training\n",
    "bs = 32\n",
    "loss_func = nn.CrossEntropyLoss()\n",
    "optim = torch.optim.Adam(model.parameters())\n",
    "losses, accuracies = [], []\n",
    "for i in (t := trange(1000)):\n",
    "    \n",
    "    samp = np.random.randint(0,X_train.shape[0],size=(bs))\n",
    "    X = torch.tensor(X_train[samp].reshape((-1, 28*28))).float()\n",
    "    Y = torch.tensor(Y_train[samp]).long()\n",
    "    optim.zero_grad()\n",
    "    \n",
    "    out = model(X)\n",
    "#     print(f\"out:{out}\")\n",
    "    cat = torch.argmax(out,dim =1)\n",
    "    accuracy = (cat == Y).float().mean()\n",
    "#     print(cat)\n",
    "    loss = loss_func(out,Y)\n",
    "    loss.backward()\n",
    "    optim.step()\n",
    "    loss, accuracy = loss.item(), accuracy.item()\n",
    "    losses.append(loss)\n",
    "    accuracies.append(accuracy)\n",
    "#     print(loss)\n",
    "    t.set_description(\"loss %.2f accuracy %.2f\" % (loss, accuracy))\n",
    "\n"
   ]
  },
  {
   "cell_type": "code",
   "execution_count": 159,
   "id": "cf23e77d",
   "metadata": {},
   "outputs": [
    {
     "data": {
      "text/plain": [
       "[<matplotlib.lines.Line2D at 0x7fdcc8957640>]"
      ]
     },
     "execution_count": 159,
     "metadata": {},
     "output_type": "execute_result"
    },
    {
     "data": {
      "image/png": "[encoded data removed]",
      "text/plain": [
       "<Figure size 432x288 with 1 Axes>"
      ]
     },
     "metadata": {
      "needs_background": "light"
     },
     "output_type": "display_data"
    }
   ],
   "source": [
    "plt.ylim(-1,3)\n",
    "plot(losses,color = 'black')\n",
    "plot(accuracies,color = 'yellow')"
   ]
  },
  {
   "cell_type": "code",
   "execution_count": 160,
   "id": "9517da47",
   "metadata": {},
   "outputs": [
    {
     "data": {
      "text/plain": [
       "0.8544"
      ]
     },
     "execution_count": 160,
     "metadata": {},
     "output_type": "execute_result"
    }
   ],
   "source": [
    "# evaluation\n",
    "Y_test_preds = torch.argmax(model(torch.tensor(X_test.reshape((-1, 28*28))).float()), dim=1).numpy()\n",
    "(Y_test_preds == Y_test).mean()"
   ]
  },
  {
   "cell_type": "code",
   "execution_count": null,
   "id": "0824c298",
   "metadata": {
    "scrolled": true
   },
   "outputs": [],
   "source": []
  },
  {
   "cell_type": "code",
   "execution_count": null,
   "id": "a4e303e1",
   "metadata": {},
   "outputs": [],
   "source": []
  },
  {
   "cell_type": "code",
   "execution_count": null,
   "id": "b701275f",
   "metadata": {},
   "outputs": [],
   "source": []
  }
 ],
 "metadata": {
  "kernelspec": {
   "display_name": "Python 3 (ipykernel)",
   "language": "python",
   "name": "python3"
  },
  "language_info": {
   "codemirror_mode": {
    "name": "ipython",
    "version": 3
   },
   "file_extension": ".py",
   "mimetype": "text/x-python",
   "name": "python",
   "nbconvert_exporter": "python",
   "pygments_lexer": "ipython3",
   "version": "3.9.7"
  }
 },
 "nbformat": 4,
 "nbformat_minor": 5
}
